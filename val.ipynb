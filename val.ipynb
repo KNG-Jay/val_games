{
 "cells": [
  {
   "cell_type": "code",
   "id": "initial_id",
   "metadata": {
    "collapsed": true,
    "ExecuteTime": {
     "end_time": "2024-12-22T18:38:27.473418Z",
     "start_time": "2024-12-22T18:38:27.468341Z"
    }
   },
   "source": [
    "import pandas as pd\n",
    "import seaborn as sns"
   ],
   "outputs": [],
   "execution_count": 2
  },
  {
   "metadata": {
    "ExecuteTime": {
     "end_time": "2024-12-22T18:38:27.555844Z",
     "start_time": "2024-12-22T18:38:27.515157Z"
    }
   },
   "cell_type": "code",
   "source": [
    "df = pd.read_csv(\"data/valorant_games.csv\", header=0)\n",
    "df.set_index(\"game_id\")\n",
    "del df[\"episode\"]\n",
    "del df[\"act\"]\n",
    "df.info()"
   ],
   "id": "5829c07f9896ee06",
   "outputs": [
    {
     "name": "stdout",
     "output_type": "stream",
     "text": [
      "<class 'pandas.core.frame.DataFrame'>\n",
      "RangeIndex: 1000 entries, 0 to 999\n",
      "Data columns (total 17 columns):\n",
      " #   Column         Non-Null Count  Dtype  \n",
      "---  ------         --------------  -----  \n",
      " 0   game_id        1000 non-null   int64  \n",
      " 1   rank           1000 non-null   object \n",
      " 2   date           1000 non-null   object \n",
      " 3   agent          1000 non-null   object \n",
      " 4   map            1000 non-null   object \n",
      " 5   outcome        1000 non-null   object \n",
      " 6   round_wins     1000 non-null   int64  \n",
      " 7   round_losses   1000 non-null   int64  \n",
      " 8   kills          1000 non-null   int64  \n",
      " 9   deaths         1000 non-null   int64  \n",
      " 10  assists        1000 non-null   int64  \n",
      " 11  kdr            1000 non-null   float64\n",
      " 12  avg_dmg_delta  1000 non-null   int64  \n",
      " 13  headshot_pct   1000 non-null   int64  \n",
      " 14  avg_dmg        1000 non-null   int64  \n",
      " 15  acs            1000 non-null   int64  \n",
      " 16  num_frag       1000 non-null   int64  \n",
      "dtypes: float64(1), int64(11), object(5)\n",
      "memory usage: 132.9+ KB\n"
     ]
    }
   ],
   "execution_count": 3
  },
  {
   "metadata": {
    "ExecuteTime": {
     "end_time": "2024-12-22T18:38:27.696217Z",
     "start_time": "2024-12-22T18:38:27.642891Z"
    }
   },
   "cell_type": "code",
   "source": "df.describe()",
   "id": "5fd629ca3b486873",
   "outputs": [
    {
     "data": {
      "text/plain": [
       "           game_id   round_wins  round_losses        kills       deaths  \\\n",
       "count  1000.000000  1000.000000    1000.00000  1000.000000  1000.000000   \n",
       "mean    500.500000    10.589000      10.52700    15.299000    14.249000   \n",
       "std     288.819436     3.359966       3.55273     5.253113     3.724362   \n",
       "min       1.000000     0.000000       0.00000     1.000000     0.000000   \n",
       "25%     250.750000     8.000000       8.00000    12.000000    13.000000   \n",
       "50%     500.500000    13.000000      13.00000    15.000000    15.000000   \n",
       "75%     750.250000    13.000000      13.00000    19.000000    17.000000   \n",
       "max    1000.000000    18.000000      20.00000    35.000000    26.000000   \n",
       "\n",
       "           assists          kdr  avg_dmg_delta  headshot_pct      avg_dmg  \\\n",
       "count  1000.000000  1000.000000    1000.000000   1000.000000  1000.000000   \n",
       "mean      4.656000     1.178400      10.308000     22.763000   134.446000   \n",
       "std       2.656072     0.656784      43.383791      9.919033    35.199916   \n",
       "min       0.000000     0.200000    -124.000000      2.000000    42.000000   \n",
       "25%       3.000000     0.800000     -20.000000     15.000000   110.000000   \n",
       "50%       4.000000     1.100000       9.000000     22.000000   133.000000   \n",
       "75%       6.000000     1.400000      39.000000     29.000000   157.000000   \n",
       "max      20.000000     9.700000     293.000000     63.000000   373.000000   \n",
       "\n",
       "               acs     num_frag  \n",
       "count  1000.000000  1000.000000  \n",
       "mean    205.382000     2.990000  \n",
       "std      56.539958     1.368127  \n",
       "min      59.000000     1.000000  \n",
       "25%     166.000000     2.000000  \n",
       "50%     203.000000     3.000000  \n",
       "75%     240.000000     4.000000  \n",
       "max     572.000000     5.000000  "
      ],
      "text/html": [
       "<div>\n",
       "<style scoped>\n",
       "    .dataframe tbody tr th:only-of-type {\n",
       "        vertical-align: middle;\n",
       "    }\n",
       "\n",
       "    .dataframe tbody tr th {\n",
       "        vertical-align: top;\n",
       "    }\n",
       "\n",
       "    .dataframe thead th {\n",
       "        text-align: right;\n",
       "    }\n",
       "</style>\n",
       "<table border=\"1\" class=\"dataframe\">\n",
       "  <thead>\n",
       "    <tr style=\"text-align: right;\">\n",
       "      <th></th>\n",
       "      <th>game_id</th>\n",
       "      <th>round_wins</th>\n",
       "      <th>round_losses</th>\n",
       "      <th>kills</th>\n",
       "      <th>deaths</th>\n",
       "      <th>assists</th>\n",
       "      <th>kdr</th>\n",
       "      <th>avg_dmg_delta</th>\n",
       "      <th>headshot_pct</th>\n",
       "      <th>avg_dmg</th>\n",
       "      <th>acs</th>\n",
       "      <th>num_frag</th>\n",
       "    </tr>\n",
       "  </thead>\n",
       "  <tbody>\n",
       "    <tr>\n",
       "      <th>count</th>\n",
       "      <td>1000.000000</td>\n",
       "      <td>1000.000000</td>\n",
       "      <td>1000.00000</td>\n",
       "      <td>1000.000000</td>\n",
       "      <td>1000.000000</td>\n",
       "      <td>1000.000000</td>\n",
       "      <td>1000.000000</td>\n",
       "      <td>1000.000000</td>\n",
       "      <td>1000.000000</td>\n",
       "      <td>1000.000000</td>\n",
       "      <td>1000.000000</td>\n",
       "      <td>1000.000000</td>\n",
       "    </tr>\n",
       "    <tr>\n",
       "      <th>mean</th>\n",
       "      <td>500.500000</td>\n",
       "      <td>10.589000</td>\n",
       "      <td>10.52700</td>\n",
       "      <td>15.299000</td>\n",
       "      <td>14.249000</td>\n",
       "      <td>4.656000</td>\n",
       "      <td>1.178400</td>\n",
       "      <td>10.308000</td>\n",
       "      <td>22.763000</td>\n",
       "      <td>134.446000</td>\n",
       "      <td>205.382000</td>\n",
       "      <td>2.990000</td>\n",
       "    </tr>\n",
       "    <tr>\n",
       "      <th>std</th>\n",
       "      <td>288.819436</td>\n",
       "      <td>3.359966</td>\n",
       "      <td>3.55273</td>\n",
       "      <td>5.253113</td>\n",
       "      <td>3.724362</td>\n",
       "      <td>2.656072</td>\n",
       "      <td>0.656784</td>\n",
       "      <td>43.383791</td>\n",
       "      <td>9.919033</td>\n",
       "      <td>35.199916</td>\n",
       "      <td>56.539958</td>\n",
       "      <td>1.368127</td>\n",
       "    </tr>\n",
       "    <tr>\n",
       "      <th>min</th>\n",
       "      <td>1.000000</td>\n",
       "      <td>0.000000</td>\n",
       "      <td>0.00000</td>\n",
       "      <td>1.000000</td>\n",
       "      <td>0.000000</td>\n",
       "      <td>0.000000</td>\n",
       "      <td>0.200000</td>\n",
       "      <td>-124.000000</td>\n",
       "      <td>2.000000</td>\n",
       "      <td>42.000000</td>\n",
       "      <td>59.000000</td>\n",
       "      <td>1.000000</td>\n",
       "    </tr>\n",
       "    <tr>\n",
       "      <th>25%</th>\n",
       "      <td>250.750000</td>\n",
       "      <td>8.000000</td>\n",
       "      <td>8.00000</td>\n",
       "      <td>12.000000</td>\n",
       "      <td>13.000000</td>\n",
       "      <td>3.000000</td>\n",
       "      <td>0.800000</td>\n",
       "      <td>-20.000000</td>\n",
       "      <td>15.000000</td>\n",
       "      <td>110.000000</td>\n",
       "      <td>166.000000</td>\n",
       "      <td>2.000000</td>\n",
       "    </tr>\n",
       "    <tr>\n",
       "      <th>50%</th>\n",
       "      <td>500.500000</td>\n",
       "      <td>13.000000</td>\n",
       "      <td>13.00000</td>\n",
       "      <td>15.000000</td>\n",
       "      <td>15.000000</td>\n",
       "      <td>4.000000</td>\n",
       "      <td>1.100000</td>\n",
       "      <td>9.000000</td>\n",
       "      <td>22.000000</td>\n",
       "      <td>133.000000</td>\n",
       "      <td>203.000000</td>\n",
       "      <td>3.000000</td>\n",
       "    </tr>\n",
       "    <tr>\n",
       "      <th>75%</th>\n",
       "      <td>750.250000</td>\n",
       "      <td>13.000000</td>\n",
       "      <td>13.00000</td>\n",
       "      <td>19.000000</td>\n",
       "      <td>17.000000</td>\n",
       "      <td>6.000000</td>\n",
       "      <td>1.400000</td>\n",
       "      <td>39.000000</td>\n",
       "      <td>29.000000</td>\n",
       "      <td>157.000000</td>\n",
       "      <td>240.000000</td>\n",
       "      <td>4.000000</td>\n",
       "    </tr>\n",
       "    <tr>\n",
       "      <th>max</th>\n",
       "      <td>1000.000000</td>\n",
       "      <td>18.000000</td>\n",
       "      <td>20.00000</td>\n",
       "      <td>35.000000</td>\n",
       "      <td>26.000000</td>\n",
       "      <td>20.000000</td>\n",
       "      <td>9.700000</td>\n",
       "      <td>293.000000</td>\n",
       "      <td>63.000000</td>\n",
       "      <td>373.000000</td>\n",
       "      <td>572.000000</td>\n",
       "      <td>5.000000</td>\n",
       "    </tr>\n",
       "  </tbody>\n",
       "</table>\n",
       "</div>"
      ]
     },
     "execution_count": 4,
     "metadata": {},
     "output_type": "execute_result"
    }
   ],
   "execution_count": 4
  },
  {
   "metadata": {
    "ExecuteTime": {
     "end_time": "2024-12-22T18:38:27.904560Z",
     "start_time": "2024-12-22T18:38:27.893964Z"
    }
   },
   "cell_type": "code",
   "source": [
    "print(\"Rank distribution:\")\n",
    "df.value_counts(\"rank\")\n"
   ],
   "id": "e572574acfde1cff",
   "outputs": [
    {
     "name": "stdout",
     "output_type": "stream",
     "text": [
      "Rank distribution:\n"
     ]
    },
    {
     "data": {
      "text/plain": [
       "rank\n",
       "Ascendant 1    179\n",
       "Diamond 3      153\n",
       "Diamond 1      126\n",
       "Platinum 3     111\n",
       "Gold 3          93\n",
       "Diamond 2       78\n",
       "Platinum 1      66\n",
       "Ascendant 2     57\n",
       "Platinum 2      48\n",
       "Gold 2          24\n",
       "Placement       24\n",
       "Gold 1          17\n",
       "Silver 2        17\n",
       "Silver 3         7\n",
       "Name: count, dtype: int64"
      ]
     },
     "execution_count": 5,
     "metadata": {},
     "output_type": "execute_result"
    }
   ],
   "execution_count": 5
  },
  {
   "metadata": {
    "ExecuteTime": {
     "end_time": "2024-12-22T18:38:28.166967Z",
     "start_time": "2024-12-22T18:38:28.143947Z"
    }
   },
   "cell_type": "code",
   "source": "df.value_counts(\"outcome\")",
   "id": "a52358be06a4c12c",
   "outputs": [
    {
     "data": {
      "text/plain": [
       "outcome\n",
       "Loss    497\n",
       "Win     491\n",
       "Draw     12\n",
       "Name: count, dtype: int64"
      ]
     },
     "execution_count": 6,
     "metadata": {},
     "output_type": "execute_result"
    }
   ],
   "execution_count": 6
  },
  {
   "metadata": {
    "ExecuteTime": {
     "end_time": "2024-12-22T18:38:28.661142Z",
     "start_time": "2024-12-22T18:38:28.648319Z"
    }
   },
   "cell_type": "code",
   "source": "df[\"num_frag\"].value_counts()",
   "id": "757cdfce5dead076",
   "outputs": [
    {
     "data": {
      "text/plain": [
       "num_frag\n",
       "2    225\n",
       "4    209\n",
       "3    207\n",
       "5    181\n",
       "1    178\n",
       "Name: count, dtype: int64"
      ]
     },
     "execution_count": 7,
     "metadata": {},
     "output_type": "execute_result"
    }
   ],
   "execution_count": 7
  },
  {
   "metadata": {
    "ExecuteTime": {
     "end_time": "2024-12-22T18:39:48.424213Z",
     "start_time": "2024-12-22T18:39:48.416848Z"
    }
   },
   "cell_type": "code",
   "source": [
    "print(\"KDR:\")\n",
    "print(df[\"kdr\"].mean())\n",
    "print(\"Average damage:\")\n",
    "print(df[\"avg_dmg\"].mean())\n",
    "print(\"Average damage delta:\")\n",
    "print(df[\"avg_dmg_delta\"].mean())\n",
    "print(\"Average Assists:\")\n",
    "print(df[\"assists\"].mean())"
   ],
   "id": "308dda1a405be68f",
   "outputs": [
    {
     "name": "stdout",
     "output_type": "stream",
     "text": [
      "KDR:\n",
      "1.1784\n",
      "Average damage:\n",
      "134.446\n",
      "Average damage delta:\n",
      "10.308\n",
      "Average Assists:\n",
      "4.656\n"
     ]
    }
   ],
   "execution_count": 12
  },
  {
   "metadata": {
    "ExecuteTime": {
     "end_time": "2024-12-22T18:38:29.466511Z",
     "start_time": "2024-12-22T18:38:29.455484Z"
    }
   },
   "cell_type": "code",
   "source": "df[[\"kills\", \"deaths\"]].sum()",
   "id": "98d7b73ed3dcc33e",
   "outputs": [
    {
     "data": {
      "text/plain": [
       "kills     15299\n",
       "deaths    14249\n",
       "dtype: int64"
      ]
     },
     "execution_count": 9,
     "metadata": {},
     "output_type": "execute_result"
    }
   ],
   "execution_count": 9
  },
  {
   "metadata": {
    "ExecuteTime": {
     "end_time": "2024-12-22T18:39:52.669350Z",
     "start_time": "2024-12-22T18:39:52.445178Z"
    }
   },
   "cell_type": "code",
   "source": [
    "print(\"Kills/Deaths: in thousands\")\n",
    "sns.barplot(df[[\"kills\", \"deaths\"]])"
   ],
   "id": "bcb13041510adbec",
   "outputs": [
    {
     "name": "stdout",
     "output_type": "stream",
     "text": [
      "Kills/Deaths: in thousands\n"
     ]
    },
    {
     "name": "stderr",
     "output_type": "stream",
     "text": [
      "/home/kng/anaconda3/envs/ds-env1/lib/python3.11/site-packages/seaborn/_oldcore.py:1498: FutureWarning: is_categorical_dtype is deprecated and will be removed in a future version. Use isinstance(dtype, CategoricalDtype) instead\n",
      "  if pd.api.types.is_categorical_dtype(vector):\n",
      "/home/kng/anaconda3/envs/ds-env1/lib/python3.11/site-packages/seaborn/_oldcore.py:1498: FutureWarning: is_categorical_dtype is deprecated and will be removed in a future version. Use isinstance(dtype, CategoricalDtype) instead\n",
      "  if pd.api.types.is_categorical_dtype(vector):\n"
     ]
    },
    {
     "data": {
      "text/plain": [
       "<Axes: >"
      ]
     },
     "execution_count": 13,
     "metadata": {},
     "output_type": "execute_result"
    },
    {
     "data": {
      "text/plain": [
       "<Figure size 640x480 with 1 Axes>"
      ],
      "image/png": "[encoded data removed]"
     },
     "metadata": {},
     "output_type": "display_data"
    }
   ],
   "execution_count": 13
  },
  {
   "metadata": {},
   "cell_type": "code",
   "outputs": [],
   "execution_count": null,
   "source": "",
   "id": "2235198a95789673"
  }
 ],
 "metadata": {
  "kernelspec": {
   "display_name": "Python 3",
   "language": "python",
   "name": "python3"
  },
  "language_info": {
   "codemirror_mode": {
    "name": "ipython",
    "version": 2
   },
   "file_extension": ".py",
   "mimetype": "text/x-python",
   "name": "python",
   "nbconvert_exporter": "python",
   "pygments_lexer": "ipython2",
   "version": "2.7.6"
  }
 },
 "nbformat": 4,
 "nbformat_minor": 5
}
